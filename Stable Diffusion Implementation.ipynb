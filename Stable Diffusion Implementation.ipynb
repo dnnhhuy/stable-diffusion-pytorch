{
 "cells": [
  {
   "cell_type": "code",
   "execution_count": null,
   "id": "1bd4f0cb-9313-443d-af07-dcd991862400",
   "metadata": {
    "scrolled": true
   },
   "outputs": [],
   "source": [
    "%load_ext autoreload\n",
    "%autoreload 2\n",
    "    \n",
    "import os\n",
    "os.environ['PYTORCH_ENABLE_MPS_FALLBACK'] = '1'\n",
    "from models.diffusion import StableDiffusion\n",
    "import torch\n",
    "from torchvision import transforms\n",
    "from transformers import CLIPTokenizer\n",
    "from PIL import Image\n",
    "from utils.model_converter import load_weights_from_ckpt\n",
    "from torch.ao.quantization import QConfig, HistogramObserver, MinMaxObserver\n",
    "\n",
    "\n",
    "prompt = \"A cat is sitting, looking out the window\"\n",
    "uncond_prompt = \"\"  # Also known as negative prompt\n",
    "do_cfg = True\n",
    "cfg_scale = 8  # min: 1, max: 14\n",
    "\n",
    "## IMAGE TO IMAGE\n",
    "\n",
    "# Comment to disable image to image\n",
    "input_image = None\n",
    "image_path = \"./images/dog.jpg\"\n",
    "input_image = Image.open(image_path).convert('RGB')\n",
    "\n",
    "# Higher values means more noise will be added to the input image, so the result will further from the input image.\n",
    "# Lower values means less noise is added to the input image, so output will be closer to the input image.\n",
    "strength = 0.1\n",
    "\n",
    "## SAMPLER\n",
    "num_inference_steps = 50\n",
    "seed = 42\n",
    "model = StableDiffusion(model_type='txt2img')\n",
    "loaded_state_dict = load_weights_from_ckpt('./weights/model/v1-5-pruned-emaonly.ckpt', device='cpu')\n",
    "model.vae.load_state_dict(loaded_state_dict['vae'], strict=True)\n",
    "model.unet.load_state_dict(loaded_state_dict['unet'], strict=True)\n",
    "model.cond_encoder.load_state_dict(loaded_state_dict['cond_encoder'], strict=True)\n",
    "\n",
    "tokenizer = CLIPTokenizer('./weights/tokenizer/tokenizer_vocab.json', merges_file='./weights/tokenizer/tokenizer_merges.txt')"
   ]
  },
  {
   "cell_type": "code",
   "execution_count": null,
   "id": "3af90cdc-1ddd-4d88-a3cb-01c085d698cf",
   "metadata": {
    "scrolled": true
   },
   "outputs": [],
   "source": [
    "%load_ext autoreload\n",
    "%autoreload 2\n",
    "output_image = model.generate(\n",
    "    input_image=None,\n",
    "    img_size=(512, 512),\n",
    "     prompt=\"A cozy mountain cabin at sunrise\",\n",
    "     uncond_promt=uncond_prompt,\n",
    "     do_cfg=do_cfg,\n",
    "     cfg_scale=cfg_scale,\n",
    "     device='cpu',\n",
    "     strength=0.2,\n",
    "     inference_steps=num_inference_steps,\n",
    "     sampler='ddpm',\n",
    "     use_cosine_schedule=False,\n",
    "     seed=seed,\n",
    "     tokenizer=tokenizer\n",
    ")"
   ]
  },
  {
   "cell_type": "code",
   "execution_count": null,
   "id": "f56ed1e6-2a57-4ee0-8d6e-4814c70da7a5",
   "metadata": {},
   "outputs": [],
   "source": [
    "Image.fromarray(output_image)"
   ]
  },
  {
   "cell_type": "code",
   "execution_count": null,
   "id": "c001a33b-c371-4401-a3f7-b4c5742a4974",
   "metadata": {},
   "outputs": [],
   "source": [
    "torch.save(model.state_dict(), './quantized_model.pth')\n",
    "os.path.getsize('./quantized_model.pth') / (1024 * 1024)"
   ]
  },
  {
   "cell_type": "code",
   "execution_count": null,
   "id": "cc916a40-7884-4c8e-9e5a-cfc6f7512717",
   "metadata": {},
   "outputs": [],
   "source": [
    "%load_ext autoreload\n",
    "%autoreload 2\n",
    "!python3 train.py --device=mps --batch_size 16 --data_dir ./data/sprites/ --save_dir ./checkpoints/ --checkpoint_dir ./checkpoints/"
   ]
  },
  {
   "cell_type": "code",
   "execution_count": 10,
   "id": "dd2733e6-690f-4429-ac4b-937b55b4943b",
   "metadata": {},
   "outputs": [
    {
     "name": "stdout",
     "output_type": "stream",
     "text": [
      "The autoreload extension is already loaded. To reload it, use:\n",
      "  %reload_ext autoreload\n"
     ]
    },
    {
     "data": {
      "text/plain": [
       "<All keys matched successfully>"
      ]
     },
     "execution_count": 10,
     "metadata": {},
     "output_type": "execute_result"
    }
   ],
   "source": [
    "%load_ext autoreload\n",
    "%autoreload 2\n",
    "    \n",
    "import os\n",
    "os.environ['PYTORCH_ENABLE_MPS_FALLBACK'] = '1'\n",
    "from models.diffusion import StableDiffusion\n",
    "import torch\n",
    "from torchvision import transforms\n",
    "from transformers import CLIPTokenizer\n",
    "from PIL import Image\n",
    "from utils.model_converter import load_weights_from_ckpt\n",
    "from torch.ao.quantization import QConfig, HistogramObserver, MinMaxObserver\n",
    "\n",
    "\n",
    "cond = [[0, 0, 0, 0, 1]]\n",
    "uncond = [[0, 0, 0, 0, 0]]   # Also known as negative prompt\n",
    "do_cfg = True\n",
    "cfg_scale = 8  # min: 1, max: 14\n",
    "\n",
    "## IMAGE TO IMAGE\n",
    "\n",
    "# Comment to disable image to image\n",
    "input_image = None\n",
    "image_path = \"./images/image_6.JPEG\"\n",
    "input_image = Image.open(image_path)\n",
    "\n",
    "# Higher values means more noise will be added to the input image, so the result will further from the input image.\n",
    "# Lower values means less noise is added to the input image, so output will be closer to the input image.\n",
    "strength = 0.1\n",
    "\n",
    "## SAMPLER\n",
    "num_inference_steps = 50\n",
    "seed = 42\n",
    "model = StableDiffusion(model_type='class2img', num_classes=5)\n",
    "loaded_state_dict = torch.load('./weights/model/stable_diffusion_epoch_25.ckpt', map_location='cpu')['model_state_dict']\n",
    "model.load_state_dict(loaded_state_dict)"
   ]
  },
  {
   "cell_type": "code",
   "execution_count": 98,
   "id": "53a6ca52-6f28-4e95-b174-673954e7c7a4",
   "metadata": {},
   "outputs": [
    {
     "name": "stdout",
     "output_type": "stream",
     "text": [
      "The autoreload extension is already loaded. To reload it, use:\n",
      "  %reload_ext autoreload\n"
     ]
    },
    {
     "name": "stderr",
     "output_type": "stream",
     "text": [
      "  2%|█▍                                                                   | 1/50 [00:00<00:14,  3.37it/s]"
     ]
    },
    {
     "name": "stdout",
     "output_type": "stream",
     "text": [
      "tensor(0.0668)\n"
     ]
    },
    {
     "name": "stderr",
     "output_type": "stream",
     "text": [
      "  4%|██▊                                                                  | 2/50 [00:00<00:13,  3.50it/s]"
     ]
    },
    {
     "name": "stdout",
     "output_type": "stream",
     "text": [
      "tensor(0.0724)\n"
     ]
    },
    {
     "name": "stderr",
     "output_type": "stream",
     "text": [
      "  6%|████▏                                                                | 3/50 [00:00<00:12,  3.72it/s]"
     ]
    },
    {
     "name": "stdout",
     "output_type": "stream",
     "text": [
      "tensor(0.0789)\n"
     ]
    },
    {
     "name": "stderr",
     "output_type": "stream",
     "text": [
      "  8%|█████▌                                                               | 4/50 [00:01<00:11,  3.88it/s]"
     ]
    },
    {
     "name": "stdout",
     "output_type": "stream",
     "text": [
      "tensor(0.0837)\n"
     ]
    },
    {
     "name": "stderr",
     "output_type": "stream",
     "text": [
      " 10%|██████▉                                                              | 5/50 [00:01<00:11,  3.95it/s]"
     ]
    },
    {
     "name": "stdout",
     "output_type": "stream",
     "text": [
      "tensor(0.0929)\n"
     ]
    },
    {
     "name": "stderr",
     "output_type": "stream",
     "text": [
      " 12%|████████▎                                                            | 6/50 [00:01<00:10,  4.02it/s]"
     ]
    },
    {
     "name": "stdout",
     "output_type": "stream",
     "text": [
      "tensor(0.1000)\n"
     ]
    },
    {
     "name": "stderr",
     "output_type": "stream",
     "text": [
      " 14%|█████████▋                                                           | 7/50 [00:01<00:10,  4.04it/s]"
     ]
    },
    {
     "name": "stdout",
     "output_type": "stream",
     "text": [
      "tensor(0.1062)\n"
     ]
    },
    {
     "name": "stderr",
     "output_type": "stream",
     "text": [
      " 16%|███████████                                                          | 8/50 [00:02<00:10,  4.06it/s]"
     ]
    },
    {
     "name": "stdout",
     "output_type": "stream",
     "text": [
      "tensor(0.1184)\n"
     ]
    },
    {
     "name": "stderr",
     "output_type": "stream",
     "text": [
      " 18%|████████████▍                                                        | 9/50 [00:02<00:10,  4.04it/s]"
     ]
    },
    {
     "name": "stdout",
     "output_type": "stream",
     "text": [
      "tensor(0.1310)\n"
     ]
    },
    {
     "name": "stderr",
     "output_type": "stream",
     "text": [
      " 20%|█████████████▌                                                      | 10/50 [00:02<00:09,  4.06it/s]"
     ]
    },
    {
     "name": "stdout",
     "output_type": "stream",
     "text": [
      "tensor(0.1382)\n"
     ]
    },
    {
     "name": "stderr",
     "output_type": "stream",
     "text": [
      " 22%|██████████████▉                                                     | 11/50 [00:02<00:09,  4.07it/s]"
     ]
    },
    {
     "name": "stdout",
     "output_type": "stream",
     "text": [
      "tensor(0.1549)\n"
     ]
    },
    {
     "name": "stderr",
     "output_type": "stream",
     "text": [
      " 24%|████████████████▎                                                   | 12/50 [00:03<00:09,  4.07it/s]"
     ]
    },
    {
     "name": "stdout",
     "output_type": "stream",
     "text": [
      "tensor(0.1685)\n"
     ]
    },
    {
     "name": "stderr",
     "output_type": "stream",
     "text": [
      " 26%|█████████████████▋                                                  | 13/50 [00:03<00:09,  4.11it/s]"
     ]
    },
    {
     "name": "stdout",
     "output_type": "stream",
     "text": [
      "tensor(0.1769)\n"
     ]
    },
    {
     "name": "stderr",
     "output_type": "stream",
     "text": [
      " 28%|███████████████████                                                 | 14/50 [00:03<00:08,  4.13it/s]"
     ]
    },
    {
     "name": "stdout",
     "output_type": "stream",
     "text": [
      "tensor(0.1966)\n"
     ]
    },
    {
     "name": "stderr",
     "output_type": "stream",
     "text": [
      " 30%|████████████████████▍                                               | 15/50 [00:03<00:08,  3.91it/s]"
     ]
    },
    {
     "name": "stdout",
     "output_type": "stream",
     "text": [
      "tensor(0.2122)\n"
     ]
    },
    {
     "name": "stderr",
     "output_type": "stream",
     "text": [
      " 32%|█████████████████████▊                                              | 16/50 [00:04<00:09,  3.70it/s]"
     ]
    },
    {
     "name": "stdout",
     "output_type": "stream",
     "text": [
      "tensor(0.2286)\n"
     ]
    },
    {
     "name": "stderr",
     "output_type": "stream",
     "text": [
      " 34%|███████████████████████                                             | 17/50 [00:04<00:09,  3.35it/s]"
     ]
    },
    {
     "name": "stdout",
     "output_type": "stream",
     "text": [
      "tensor(0.2534)\n"
     ]
    },
    {
     "name": "stderr",
     "output_type": "stream",
     "text": [
      " 36%|████████████████████████▍                                           | 18/50 [00:04<00:09,  3.47it/s]"
     ]
    },
    {
     "name": "stdout",
     "output_type": "stream",
     "text": [
      "tensor(0.2717)\n"
     ]
    },
    {
     "name": "stderr",
     "output_type": "stream",
     "text": [
      " 38%|█████████████████████████▊                                          | 19/50 [00:04<00:08,  3.66it/s]"
     ]
    },
    {
     "name": "stdout",
     "output_type": "stream",
     "text": [
      "tensor(0.2824)\n"
     ]
    },
    {
     "name": "stderr",
     "output_type": "stream",
     "text": [
      " 40%|███████████████████████████▏                                        | 20/50 [00:05<00:07,  3.78it/s]"
     ]
    },
    {
     "name": "stdout",
     "output_type": "stream",
     "text": [
      "tensor(0.3007)\n"
     ]
    },
    {
     "name": "stderr",
     "output_type": "stream",
     "text": [
      " 42%|████████████████████████████▌                                       | 21/50 [00:05<00:07,  3.69it/s]"
     ]
    },
    {
     "name": "stdout",
     "output_type": "stream",
     "text": [
      "tensor(0.3243)\n"
     ]
    },
    {
     "name": "stderr",
     "output_type": "stream",
     "text": [
      " 44%|█████████████████████████████▉                                      | 22/50 [00:05<00:08,  3.47it/s]"
     ]
    },
    {
     "name": "stdout",
     "output_type": "stream",
     "text": [
      "tensor(0.3463)\n"
     ]
    },
    {
     "name": "stderr",
     "output_type": "stream",
     "text": [
      " 46%|███████████████████████████████▎                                    | 23/50 [00:06<00:07,  3.41it/s]"
     ]
    },
    {
     "name": "stdout",
     "output_type": "stream",
     "text": [
      "tensor(0.3613)\n"
     ]
    },
    {
     "name": "stderr",
     "output_type": "stream",
     "text": [
      " 48%|████████████████████████████████▋                                   | 24/50 [00:06<00:08,  3.23it/s]"
     ]
    },
    {
     "name": "stdout",
     "output_type": "stream",
     "text": [
      "tensor(0.3852)\n"
     ]
    },
    {
     "name": "stderr",
     "output_type": "stream",
     "text": [
      " 50%|██████████████████████████████████                                  | 25/50 [00:06<00:07,  3.32it/s]"
     ]
    },
    {
     "name": "stdout",
     "output_type": "stream",
     "text": [
      "tensor(0.3978)\n"
     ]
    },
    {
     "name": "stderr",
     "output_type": "stream",
     "text": [
      " 52%|███████████████████████████████████▎                                | 26/50 [00:07<00:07,  3.19it/s]"
     ]
    },
    {
     "name": "stdout",
     "output_type": "stream",
     "text": [
      "tensor(0.4177)\n"
     ]
    },
    {
     "name": "stderr",
     "output_type": "stream",
     "text": [
      " 54%|████████████████████████████████████▋                               | 27/50 [00:07<00:06,  3.33it/s]"
     ]
    },
    {
     "name": "stdout",
     "output_type": "stream",
     "text": [
      "tensor(0.4323)\n"
     ]
    },
    {
     "name": "stderr",
     "output_type": "stream",
     "text": [
      " 56%|██████████████████████████████████████                              | 28/50 [00:07<00:06,  3.52it/s]"
     ]
    },
    {
     "name": "stdout",
     "output_type": "stream",
     "text": [
      "tensor(0.4478)\n"
     ]
    },
    {
     "name": "stderr",
     "output_type": "stream",
     "text": [
      " 58%|███████████████████████████████████████▍                            | 29/50 [00:07<00:05,  3.69it/s]"
     ]
    },
    {
     "name": "stdout",
     "output_type": "stream",
     "text": [
      "tensor(0.4599)\n"
     ]
    },
    {
     "name": "stderr",
     "output_type": "stream",
     "text": [
      " 60%|████████████████████████████████████████▊                           | 30/50 [00:08<00:05,  3.81it/s]"
     ]
    },
    {
     "name": "stdout",
     "output_type": "stream",
     "text": [
      "tensor(0.4847)\n"
     ]
    },
    {
     "name": "stderr",
     "output_type": "stream",
     "text": [
      " 62%|██████████████████████████████████████████▏                         | 31/50 [00:08<00:04,  3.87it/s]"
     ]
    },
    {
     "name": "stdout",
     "output_type": "stream",
     "text": [
      "tensor(0.4992)\n"
     ]
    },
    {
     "name": "stderr",
     "output_type": "stream",
     "text": [
      " 64%|███████████████████████████████████████████▌                        | 32/50 [00:08<00:04,  3.70it/s]"
     ]
    },
    {
     "name": "stdout",
     "output_type": "stream",
     "text": [
      "tensor(0.5115)\n"
     ]
    },
    {
     "name": "stderr",
     "output_type": "stream",
     "text": [
      " 66%|████████████████████████████████████████████▉                       | 33/50 [00:08<00:04,  3.56it/s]"
     ]
    },
    {
     "name": "stdout",
     "output_type": "stream",
     "text": [
      "tensor(0.5180)\n"
     ]
    },
    {
     "name": "stderr",
     "output_type": "stream",
     "text": [
      " 68%|██████████████████████████████████████████████▏                     | 34/50 [00:09<00:04,  3.67it/s]"
     ]
    },
    {
     "name": "stdout",
     "output_type": "stream",
     "text": [
      "tensor(0.5231)\n"
     ]
    },
    {
     "name": "stderr",
     "output_type": "stream",
     "text": [
      " 70%|███████████████████████████████████████████████▌                    | 35/50 [00:09<00:03,  3.79it/s]"
     ]
    },
    {
     "name": "stdout",
     "output_type": "stream",
     "text": [
      "tensor(0.5358)\n"
     ]
    },
    {
     "name": "stderr",
     "output_type": "stream",
     "text": [
      " 72%|████████████████████████████████████████████████▉                   | 36/50 [00:09<00:03,  3.76it/s]"
     ]
    },
    {
     "name": "stdout",
     "output_type": "stream",
     "text": [
      "tensor(0.5454)\n"
     ]
    },
    {
     "name": "stderr",
     "output_type": "stream",
     "text": [
      " 74%|██████████████████████████████████████████████████▎                 | 37/50 [00:09<00:03,  3.84it/s]"
     ]
    },
    {
     "name": "stdout",
     "output_type": "stream",
     "text": [
      "tensor(0.5505)\n"
     ]
    },
    {
     "name": "stderr",
     "output_type": "stream",
     "text": [
      " 76%|███████████████████████████████████████████████████▋                | 38/50 [00:10<00:03,  3.89it/s]"
     ]
    },
    {
     "name": "stdout",
     "output_type": "stream",
     "text": [
      "tensor(0.5531)\n"
     ]
    },
    {
     "name": "stderr",
     "output_type": "stream",
     "text": [
      " 78%|█████████████████████████████████████████████████████               | 39/50 [00:10<00:02,  3.97it/s]"
     ]
    },
    {
     "name": "stdout",
     "output_type": "stream",
     "text": [
      "tensor(0.5435)\n"
     ]
    },
    {
     "name": "stderr",
     "output_type": "stream",
     "text": [
      " 80%|██████████████████████████████████████████████████████▍             | 40/50 [00:10<00:02,  4.00it/s]"
     ]
    },
    {
     "name": "stdout",
     "output_type": "stream",
     "text": [
      "tensor(0.5499)\n"
     ]
    },
    {
     "name": "stderr",
     "output_type": "stream",
     "text": [
      " 82%|███████████████████████████████████████████████████████▊            | 41/50 [00:10<00:02,  4.05it/s]"
     ]
    },
    {
     "name": "stdout",
     "output_type": "stream",
     "text": [
      "tensor(0.5583)\n"
     ]
    },
    {
     "name": "stderr",
     "output_type": "stream",
     "text": [
      " 84%|█████████████████████████████████████████████████████████           | 42/50 [00:11<00:01,  4.07it/s]"
     ]
    },
    {
     "name": "stdout",
     "output_type": "stream",
     "text": [
      "tensor(0.5575)\n"
     ]
    },
    {
     "name": "stderr",
     "output_type": "stream",
     "text": [
      " 86%|██████████████████████████████████████████████████████████▍         | 43/50 [00:11<00:01,  4.06it/s]"
     ]
    },
    {
     "name": "stdout",
     "output_type": "stream",
     "text": [
      "tensor(0.5469)\n"
     ]
    },
    {
     "name": "stderr",
     "output_type": "stream",
     "text": [
      " 88%|███████████████████████████████████████████████████████████▊        | 44/50 [00:11<00:01,  3.85it/s]"
     ]
    },
    {
     "name": "stdout",
     "output_type": "stream",
     "text": [
      "tensor(0.5430)\n"
     ]
    },
    {
     "name": "stderr",
     "output_type": "stream",
     "text": [
      " 90%|█████████████████████████████████████████████████████████████▏      | 45/50 [00:11<00:01,  3.88it/s]"
     ]
    },
    {
     "name": "stdout",
     "output_type": "stream",
     "text": [
      "tensor(0.5375)\n"
     ]
    },
    {
     "name": "stderr",
     "output_type": "stream",
     "text": [
      " 92%|██████████████████████████████████████████████████████████████▌     | 46/50 [00:12<00:01,  3.93it/s]"
     ]
    },
    {
     "name": "stdout",
     "output_type": "stream",
     "text": [
      "tensor(0.5282)\n"
     ]
    },
    {
     "name": "stderr",
     "output_type": "stream",
     "text": [
      " 94%|███████████████████████████████████████████████████████████████▉    | 47/50 [00:12<00:00,  3.97it/s]"
     ]
    },
    {
     "name": "stdout",
     "output_type": "stream",
     "text": [
      "tensor(0.5312)\n"
     ]
    },
    {
     "name": "stderr",
     "output_type": "stream",
     "text": [
      " 96%|█████████████████████████████████████████████████████████████████▎  | 48/50 [00:12<00:00,  3.96it/s]"
     ]
    },
    {
     "name": "stdout",
     "output_type": "stream",
     "text": [
      "tensor(0.5232)\n"
     ]
    },
    {
     "name": "stderr",
     "output_type": "stream",
     "text": [
      " 98%|██████████████████████████████████████████████████████████████████▋ | 49/50 [00:12<00:00,  3.98it/s]"
     ]
    },
    {
     "name": "stdout",
     "output_type": "stream",
     "text": [
      "tensor(0.5026)\n"
     ]
    },
    {
     "name": "stderr",
     "output_type": "stream",
     "text": [
      "100%|████████████████████████████████████████████████████████████████████| 50/50 [00:13<00:00,  3.79it/s]"
     ]
    },
    {
     "name": "stdout",
     "output_type": "stream",
     "text": [
      "tensor(0.5197)\n"
     ]
    },
    {
     "name": "stderr",
     "output_type": "stream",
     "text": [
      "\n"
     ]
    }
   ],
   "source": [
    "%load_ext autoreload\n",
    "%autoreload 2\n",
    "\n",
    "output_image = model.generate_img_from_given_class(\n",
    "    input_image=input_image,\n",
    "    img_size=(16, 16),\n",
    "    cond=[[0, 0, 0, 0, 1]],\n",
    "     uncond=[[0, 0, 0, 0, 0]],\n",
    "     do_cfg=False,\n",
    "     cfg_scale=cfg_scale,\n",
    "     device='cpu',\n",
    "     strength=1.0,\n",
    "     inference_steps=num_inference_steps,\n",
    "     sampler='ddim',\n",
    "     use_cosine_schedule=False,\n",
    "     seed=None)"
   ]
  },
  {
   "cell_type": "code",
   "execution_count": 99,
   "id": "ec71ad3b-1edc-416b-a971-99eac9773700",
   "metadata": {},
   "outputs": [
    {
     "data": {
      "image/jpeg": "[encoded data removed]",
      "image/png": "[encoded data removed]",
      "text/plain": [
       "<PIL.Image.Image image mode=RGB size=128x128>"
      ]
     },
     "execution_count": 99,
     "metadata": {},
     "output_type": "execute_result"
    }
   ],
   "source": [
    "output_image.resize((128, 128))"
   ]
  },
  {
   "cell_type": "code",
   "execution_count": 96,
   "id": "e0b37dbf-3b3f-4321-9807-52434a97d09b",
   "metadata": {
    "scrolled": true
   },
   "outputs": [
    {
     "name": "stdout",
     "output_type": "stream",
     "text": [
      "The autoreload extension is already loaded. To reload it, use:\n",
      "  %reload_ext autoreload\n",
      "^C\n",
      "Traceback (most recent call last):\n",
      "  File \"train.py\", line 1, in <module>\n",
      "    from models.diffusion import StableDiffusion\n",
      "  File \"/Users/dnnhhuy/Study/pytorch-course/txt2img-stable-diffusion/models/diffusion.py\", line 3, in <module>\n",
      "    from torchvision import transforms\n",
      "  File \"/Users/dnnhhuy/Study/pytorch-course/env/lib/python3.8/site-packages/torchvision/__init__.py\", line 6, in <module>\n",
      "    from torchvision import _meta_registrations, datasets, io, models, ops, transforms, utils\n",
      "  File \"/Users/dnnhhuy/Study/pytorch-course/env/lib/python3.8/site-packages/torchvision/models/__init__.py\", line 2, in <module>\n",
      "    from .convnext import *\n",
      "  File \"/Users/dnnhhuy/Study/pytorch-course/env/lib/python3.8/site-packages/torchvision/models/convnext.py\", line 8, in <module>\n",
      "    from ..ops.misc import Conv2dNormActivation, Permute\n",
      "  File \"/Users/dnnhhuy/Study/pytorch-course/env/lib/python3.8/site-packages/torchvision/ops/__init__.py\", line 23, in <module>\n",
      "    from .poolers import MultiScaleRoIAlign\n",
      "  File \"/Users/dnnhhuy/Study/pytorch-course/env/lib/python3.8/site-packages/torchvision/ops/poolers.py\", line 10, in <module>\n",
      "    from .roi_align import roi_align\n",
      "  File \"/Users/dnnhhuy/Study/pytorch-course/env/lib/python3.8/site-packages/torchvision/ops/roi_align.py\", line 4, in <module>\n",
      "    import torch._dynamo\n",
      "  File \"/Users/dnnhhuy/Study/pytorch-course/env/lib/python3.8/site-packages/torch/_dynamo/__init__.py\", line 2, in <module>\n",
      "    from . import convert_frame, eval_frame, resume_execution\n",
      "  File \"/Users/dnnhhuy/Study/pytorch-course/env/lib/python3.8/site-packages/torch/_dynamo/convert_frame.py\", line 31, in <module>\n",
      "    from torch.fx.experimental.symbolic_shapes import (\n",
      "  File \"/Users/dnnhhuy/Study/pytorch-course/env/lib/python3.8/site-packages/torch/fx/experimental/symbolic_shapes.py\", line 63, in <module>\n",
      "    from torch.utils._sympy.functions import FloorDiv, Mod, IsNonOverlappingAndDenseIndicator\n",
      "  File \"/Users/dnnhhuy/Study/pytorch-course/env/lib/python3.8/site-packages/torch/utils/_sympy/functions.py\", line 1, in <module>\n",
      "    import sympy\n",
      "  File \"/Users/dnnhhuy/Study/pytorch-course/env/lib/python3.8/site-packages/sympy/__init__.py\", line 74, in <module>\n",
      "    from .polys import (Poly, PurePoly, poly_from_expr, parallel_poly_from_expr,\n",
      "  File \"/Users/dnnhhuy/Study/pytorch-course/env/lib/python3.8/site-packages/sympy/polys/__init__.py\", line 78, in <module>\n",
      "    from .polyfuncs import (symmetrize, horner, interpolate,\n",
      "  File \"/Users/dnnhhuy/Study/pytorch-course/env/lib/python3.8/site-packages/sympy/polys/polyfuncs.py\", line 10, in <module>\n",
      "    from sympy.polys.specialpolys import (\n",
      "  File \"/Users/dnnhhuy/Study/pytorch-course/env/lib/python3.8/site-packages/sympy/polys/specialpolys.py\", line 298, in <module>\n",
      "    from sympy.polys.rings import ring\n",
      "  File \"/Users/dnnhhuy/Study/pytorch-course/env/lib/python3.8/site-packages/sympy/polys/rings.py\", line 30, in <module>\n",
      "    from sympy.printing.defaults import DefaultPrinting\n",
      "  File \"/Users/dnnhhuy/Study/pytorch-course/env/lib/python3.8/site-packages/sympy/printing/__init__.py\", line 5, in <module>\n",
      "    from .latex import latex, print_latex, multiline_latex\n",
      "  File \"/Users/dnnhhuy/Study/pytorch-course/env/lib/python3.8/site-packages/sympy/printing/latex.py\", line 18, in <module>\n",
      "    from sympy.tensor.array import NDimArray\n",
      "  File \"/Users/dnnhhuy/Study/pytorch-course/env/lib/python3.8/site-packages/sympy/tensor/__init__.py\", line 4, in <module>\n",
      "    from .indexed import IndexedBase, Idx, Indexed\n",
      "  File \"/Users/dnnhhuy/Study/pytorch-course/env/lib/python3.8/site-packages/sympy/tensor/indexed.py\", line 114, in <module>\n",
      "    from sympy.functions.special.tensor_functions import KroneckerDelta\n",
      "  File \"/Users/dnnhhuy/Study/pytorch-course/env/lib/python3.8/site-packages/sympy/functions/__init__.py\", line 10, in <module>\n",
      "    from sympy.functions.combinatorial.numbers import (carmichael, fibonacci, lucas, tribonacci,\n",
      "  File \"/Users/dnnhhuy/Study/pytorch-course/env/lib/python3.8/site-packages/sympy/functions/combinatorial/numbers.py\", line 24, in <module>\n",
      "    from sympy.functions.elementary.exponential import log\n",
      "  File \"<frozen importlib._bootstrap>\", line 991, in _find_and_load\n",
      "  File \"<frozen importlib._bootstrap>\", line 975, in _find_and_load_unlocked\n",
      "  File \"<frozen importlib._bootstrap>\", line 671, in _load_unlocked\n",
      "  File \"<frozen importlib._bootstrap_external>\", line 839, in exec_module\n",
      "  File \"<frozen importlib._bootstrap_external>\", line 934, in get_code\n",
      "  File \"<frozen importlib._bootstrap_external>\", line 1033, in get_data\n",
      "KeyboardInterrupt\n"
     ]
    }
   ],
   "source": [
    "%load_ext autoreload\n",
    "%autoreload 2\n",
    "!python3 train.py --device=mps --batch_size 32 --data_dir ./data/sprites/ --save_dir ./checkpoints/ --checkpoint_dir ./checkpoints/ --pretrained ./weights/model/stable_diffusion_epoch_25.ckpt"
   ]
  },
  {
   "cell_type": "code",
   "execution_count": null,
   "id": "d8b3d57a-ed7e-4fea-aa7c-07063ba189f5",
   "metadata": {},
   "outputs": [],
   "source": []
  }
 ],
 "metadata": {
  "kernelspec": {
   "display_name": "Python 3 (ipykernel)",
   "language": "python",
   "name": "python3"
  },
  "language_info": {
   "codemirror_mode": {
    "name": "ipython",
    "version": 3
   },
   "file_extension": ".py",
   "mimetype": "text/x-python",
   "name": "python",
   "nbconvert_exporter": "python",
   "pygments_lexer": "ipython3",
   "version": "3.8.13"
  }
 },
 "nbformat": 4,
 "nbformat_minor": 5
}
