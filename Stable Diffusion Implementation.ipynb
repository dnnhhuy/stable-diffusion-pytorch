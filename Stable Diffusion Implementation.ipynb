{
 "cells": [
  {
   "cell_type": "code",
   "execution_count": null,
   "id": "1bd4f0cb-9313-443d-af07-dcd991862400",
   "metadata": {
    "scrolled": true
   },
   "outputs": [],
   "source": [
    "%load_ext autoreload\n",
    "%autoreload 2\n",
    "    \n",
    "import os\n",
    "os.environ['PYTORCH_ENABLE_MPS_FALLBACK'] = '1'\n",
    "from models.diffusion import StableDiffusion\n",
    "import torch\n",
    "from torchvision import transforms\n",
    "from transformers import CLIPTokenizer\n",
    "from PIL import Image\n",
    "from utils.model_converter import load_weights_from_ckpt\n",
    "from torch.ao.quantization import QConfig, HistogramObserver, MinMaxObserver\n",
    "\n",
    "\n",
    "prompt = \"A cat is sitting, looking out the window\"\n",
    "uncond_prompt = \"\"  # Also known as negative prompt\n",
    "do_cfg = True\n",
    "cfg_scale = 8  # min: 1, max: 14\n",
    "\n",
    "## IMAGE TO IMAGE\n",
    "\n",
    "# Comment to disable image to image\n",
    "input_image = None\n",
    "image_path = \"./images/dog.jpg\"\n",
    "input_image = Image.open(image_path).convert('RGB')\n",
    "\n",
    "# Higher values means more noise will be added to the input image, so the result will further from the input image.\n",
    "# Lower values means less noise is added to the input image, so output will be closer to the input image.\n",
    "strength = 0.1\n",
    "\n",
    "## SAMPLER\n",
    "num_inference_steps = 50\n",
    "seed = 42\n",
    "model = StableDiffusion(model_type='txt2img')\n",
    "loaded_state_dict = load_weights_from_ckpt('./weights/model/v1-5-pruned-emaonly.ckpt', device='cpu')\n",
    "model.vae.load_state_dict(loaded_state_dict['vae'], strict=True)\n",
    "model.unet.load_state_dict(loaded_state_dict['unet'], strict=True)\n",
    "model.cond_encoder.load_state_dict(loaded_state_dict['cond_encoder'], strict=True)\n",
    "\n",
    "tokenizer = CLIPTokenizer('./weights/tokenizer/tokenizer_vocab.json', merges_file='./weights/tokenizer/tokenizer_merges.txt')"
   ]
  },
  {
   "cell_type": "code",
   "execution_count": null,
   "id": "3af90cdc-1ddd-4d88-a3cb-01c085d698cf",
   "metadata": {
    "scrolled": true
   },
   "outputs": [],
   "source": [
    "%load_ext autoreload\n",
    "%autoreload 2\n",
    "output_image = model.generate(\n",
    "    input_image=None,\n",
    "    img_size=(512, 512),\n",
    "     prompt=\"A cozy mountain cabin at sunrise\",\n",
    "     uncond_prompt=uncond_prompt,\n",
    "     do_cfg=do_cfg,\n",
    "     cfg_scale=cfg_scale,\n",
    "     device='cpu',\n",
    "     strength=0.2,\n",
    "     inference_steps=num_inference_steps,\n",
    "     sampler='ddpm',\n",
    "     use_cosine_schedule=False,\n",
    "     seed=seed,\n",
    "     tokenizer=tokenizer\n",
    ")"
   ]
  },
  {
   "cell_type": "code",
   "execution_count": null,
   "id": "f56ed1e6-2a57-4ee0-8d6e-4814c70da7a5",
   "metadata": {},
   "outputs": [],
   "source": [
    "Image.fromarray(output_image)"
   ]
  },
  {
   "cell_type": "code",
   "execution_count": null,
   "id": "5fd30f84-c4cf-4f42-9807-47453d9b0b7e",
   "metadata": {},
   "outputs": [],
   "source": []
  },
  {
   "cell_type": "code",
   "execution_count": 4,
   "id": "dd2733e6-690f-4429-ac4b-937b55b4943b",
   "metadata": {},
   "outputs": [
    {
     "name": "stdout",
     "output_type": "stream",
     "text": [
      "The autoreload extension is already loaded. To reload it, use:\n",
      "  %reload_ext autoreload\n"
     ]
    },
    {
     "name": "stderr",
     "output_type": "stream",
     "text": [
      "/Users/dnnhhuy/Study/pytorch-course/env/lib/python3.8/site-packages/tqdm/auto.py:21: TqdmWarning: IProgress not found. Please update jupyter and ipywidgets. See https://ipywidgets.readthedocs.io/en/stable/user_install.html\n",
      "  from .autonotebook import tqdm as notebook_tqdm\n"
     ]
    },
    {
     "data": {
      "text/plain": [
       "<All keys matched successfully>"
      ]
     },
     "execution_count": 4,
     "metadata": {},
     "output_type": "execute_result"
    }
   ],
   "source": [
    "%load_ext autoreload\n",
    "%autoreload 2\n",
    "    \n",
    "import os\n",
    "os.environ['PYTORCH_ENABLE_MPS_FALLBACK'] = '1'\n",
    "from models.diffusion import StableDiffusion\n",
    "import torch\n",
    "from torchvision import transforms\n",
    "from transformers import CLIPTokenizer\n",
    "from PIL import Image\n",
    "from utils.model_converter import load_weights_from_ckpt\n",
    "from torch.ao.quantization import QConfig, HistogramObserver, MinMaxObserver\n",
    "\n",
    "\n",
    "cond = [[0, 0, 0, 0, 1]]\n",
    "uncond = [[0, 0, 0, 0, 0]]   # Also known as negative prompt\n",
    "do_cfg = True\n",
    "cfg_scale = 8  # min: 1, max: 14\n",
    "\n",
    "## IMAGE TO IMAGE\n",
    "\n",
    "# Comment to disable image to image\n",
    "input_image = None\n",
    "image_path = \"./images/image_6.JPEG\"\n",
    "input_image = Image.open(image_path)\n",
    "\n",
    "# Higher values means more noise will be added to the input image, so the result will further from the input image.\n",
    "# Lower values means less noise is added to the input image, so output will be closer to the input image.\n",
    "strength = 0.1\n",
    "\n",
    "## SAMPLER\n",
    "num_inference_steps = 50\n",
    "seed = 42\n",
    "model = StableDiffusion(model_type='class2img', num_classes=5)\n",
    "loaded_state_dict = torch.load('./weights/model/stable_diffusion_epoch_33.ckpt', map_location='cpu')['model_state_dict']\n",
    "model.load_state_dict(loaded_state_dict)"
   ]
  },
  {
   "cell_type": "code",
   "execution_count": 12,
   "id": "53a6ca52-6f28-4e95-b174-673954e7c7a4",
   "metadata": {},
   "outputs": [
    {
     "name": "stdout",
     "output_type": "stream",
     "text": [
      "The autoreload extension is already loaded. To reload it, use:\n",
      "  %reload_ext autoreload\n"
     ]
    },
    {
     "name": "stderr",
     "output_type": "stream",
     "text": [
      "100%|██████████████████████████████████████████████████████████████████████| 50/50 [00:12<00:00,  4.08it/s]\n"
     ]
    }
   ],
   "source": [
    "%load_ext autoreload\n",
    "%autoreload 2\n",
    "\n",
    "output_image = model.generate_img_from_given_class(\n",
    "    input_image=None,\n",
    "    img_size=(16, 16),\n",
    "    cond=[[0, 0, 0, 0, 0]],\n",
    "     uncond=[[0, 0, 0, 0, 0]],\n",
    "     do_cfg=False,\n",
    "     cfg_scale=cfg_scale,\n",
    "     device='cpu',\n",
    "     strength=1.0,\n",
    "     inference_steps=num_inference_steps,\n",
    "     sampler='ddpm',\n",
    "     use_cosine_schedule=False,\n",
    "     seed=None)"
   ]
  },
  {
   "cell_type": "code",
   "execution_count": 13,
   "id": "ec71ad3b-1edc-416b-a971-99eac9773700",
   "metadata": {},
   "outputs": [
    {
     "data": {
      "image/jpeg": "[encoded data removed]",
      "image/png": "[encoded data removed]",
      "text/plain": [
       "<PIL.Image.Image image mode=RGB size=128x128>"
      ]
     },
     "execution_count": 13,
     "metadata": {},
     "output_type": "execute_result"
    }
   ],
   "source": [
    "output_image.resize((128, 128))"
   ]
  },
  {
   "cell_type": "code",
   "execution_count": 17,
   "id": "e0b37dbf-3b3f-4321-9807-52434a97d09b",
   "metadata": {
    "scrolled": true
   },
   "outputs": [
    {
     "name": "stdout",
     "output_type": "stream",
     "text": [
      "The autoreload extension is already loaded. To reload it, use:\n",
      "  %reload_ext autoreload\n",
      "  0%|                                                   | 0/559 [00:39<?, ?it/s]\n",
      "  0%|                                                   | 0/266 [00:41<?, ?it/s]\n",
      "Traceback (most recent call last):\n",
      "  File \"train.py\", line 172, in <module>\n",
      "    train(model, train_dataloader, test_dataloader, epochs=300, device=args.device, optimizer=optimizer, lr_scheduler=lr_scheduler, loss_fn=loss_fn, save_dir=args.save_dir, checkpoint_dir=args.checkpoint_dir, start_epoch=start_epoch)\n",
      "  File \"train.py\", line 105, in train\n",
      "    test_loss = test_step(model=model,\n",
      "  File \"train.py\", line 67, in test_step\n",
      "    loss = model(imgs, labels, loss_fn=loss_fn)\n",
      "  File \"/Users/dnnhhuy/Study/pytorch-course/env/lib/python3.8/site-packages/torch/nn/modules/module.py\", line 1532, in _wrapped_call_impl\n",
      "    return self._call_impl(*args, **kwargs)\n",
      "  File \"/Users/dnnhhuy/Study/pytorch-course/env/lib/python3.8/site-packages/torch/nn/modules/module.py\", line 1541, in _call_impl\n",
      "    return forward_call(*args, **kwargs)\n",
      "  File \"/Users/dnnhhuy/Study/pytorch-course/txt2img-stable-diffusion/models/diffusion.py\", line 263, in forward\n",
      "    pred_image = self.vae.decode(pred_noise)\n",
      "  File \"/Users/dnnhhuy/Study/pytorch-course/env/lib/python3.8/site-packages/torch/nn/modules/module.py\", line 1709, in __getattr__\n",
      "    raise AttributeError(f\"'{type(self).__name__}' object has no attribute '{name}'\")\n",
      "AttributeError: 'StableDiffusion' object has no attribute 'vae'\n"
     ]
    }
   ],
   "source": [
    "%load_ext autoreload\n",
    "%autoreload 2\n",
    "!python3 train.py --device=cpu --batch_size 32 --data_dir ./data/sprites/ --save_dir ./checkpoints/ --checkpoint_dir ./checkpoints/ --pretrained ./weights/model/stable_diffusion_epoch_33.ckpt"
   ]
  },
  {
   "cell_type": "code",
   "execution_count": null,
   "id": "bf97082c-4353-4e0c-8a93-dbb45cfb5ff8",
   "metadata": {},
   "outputs": [],
   "source": []
  }
 ],
 "metadata": {
  "kernelspec": {
   "display_name": "Python 3 (ipykernel)",
   "language": "python",
   "name": "python3"
  },
  "language_info": {
   "codemirror_mode": {
    "name": "ipython",
    "version": 3
   },
   "file_extension": ".py",
   "mimetype": "text/x-python",
   "name": "python",
   "nbconvert_exporter": "python",
   "pygments_lexer": "ipython3",
   "version": "3.8.13"
  }
 },
 "nbformat": 4,
 "nbformat_minor": 5
}
