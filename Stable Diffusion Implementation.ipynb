{
 "cells": [
  {
   "cell_type": "code",
   "execution_count": 5,
   "id": "1bd4f0cb-9313-443d-af07-dcd991862400",
   "metadata": {},
   "outputs": [
    {
     "name": "stdout",
     "output_type": "stream",
     "text": [
      "The autoreload extension is already loaded. To reload it, use:\n",
      "  %reload_ext autoreload\n"
     ]
    }
   ],
   "source": [
    "%load_ext autoreload\n",
    "%autoreload 2\n",
    "from models.diffusion import StableDiffusion\n",
    "import torch\n",
    "from torchvision import transforms\n",
    "from transformers import CLIPTokenizer\n",
    "from PIL import Image\n",
    "from utils.model_converter import load_weights_from_ckpt\n",
    "\n",
    "\n",
    "prompt = \"A man is walking on the crowded street\"\n",
    "uncond_prompt = \"\"  # Also known as negative prompt\n",
    "do_cfg = True\n",
    "cfg_scale = 8  # min: 1, max: 14\n",
    "\n",
    "## IMAGE TO IMAGE\n",
    "\n",
    "# Comment to disable image to image\n",
    "input_image = None\n",
    "image_path = \"./images/dog.jpg\"\n",
    "# input_image = Image.open(image_path).convert('RGB')\n",
    "\n",
    "# Higher values means more noise will be added to the input image, so the result will further from the input image.\n",
    "# Lower values means less noise is added to the input image, so output will be closer to the input image.\n",
    "strength = 0.9\n",
    "\n",
    "## SAMPLER\n",
    "num_inference_steps = 50\n",
    "seed = 42\n",
    "model = StableDiffusion()\n",
    "loaded_state_dict = load_weights_from_ckpt('./weights/model/v1-5-pruned-emaonly.ckpt', device='cpu')\n",
    "model.vae.load_state_dict(loaded_state_dict['vae'], strict=True)\n",
    "model.unet.load_state_dict(loaded_state_dict['unet'], strict=True)\n",
    "model.cond_encoder.load_state_dict(loaded_state_dict['cond_encoder'], strict=True)\n",
    "\n",
    "tokenizer = CLIPTokenizer('./weights/tokenizer/tokenizer_vocab.json', merges_file='./weights/tokenizer/tokenizer_merges.txt')"
   ]
  },
  {
   "cell_type": "code",
   "execution_count": 12,
   "id": "d0393ed1-6089-4f36-b418-41b1ee5fb872",
   "metadata": {
    "scrolled": true
   },
   "outputs": [
    {
     "name": "stdout",
     "output_type": "stream",
     "text": [
      "The autoreload extension is already loaded. To reload it, use:\n",
      "  %reload_ext autoreload\n"
     ]
    },
    {
     "name": "stderr",
     "output_type": "stream",
     "text": [
      "100%|██████████████████████████████████████████████████████████████████████████████████████████████████████| 50/50 [00:59<00:00,  1.19s/it]\n"
     ]
    }
   ],
   "source": [
    "%load_ext autoreload\n",
    "%autoreload 2\n",
    "output_image = model.generate(\n",
    "    input_image=input_image,\n",
    "     prompt=prompt,\n",
    "     uncond_promt=uncond_prompt,\n",
    "     do_cfg=do_cfg,\n",
    "     cfg_scale=cfg_scale,\n",
    "     device='mps',\n",
    "     strength=strength,\n",
    "     inference_steps=num_inference_steps,\n",
    "     sampler='ddpm',\n",
    "     use_cosine_schedule=True,\n",
    "     seed=seed,\n",
    "     tokenizer=tokenizer\n",
    ")\n",
    "    "
   ]
  },
  {
   "cell_type": "code",
   "execution_count": null,
   "id": "d0f6dcc5-be87-4f17-a135-ce7b55475106",
   "metadata": {},
   "outputs": [],
   "source": []
  }
 ],
 "metadata": {
  "kernelspec": {
   "display_name": "Python 3 (ipykernel)",
   "language": "python",
   "name": "python3"
  },
  "language_info": {
   "codemirror_mode": {
    "name": "ipython",
    "version": 3
   },
   "file_extension": ".py",
   "mimetype": "text/x-python",
   "name": "python",
   "nbconvert_exporter": "python",
   "pygments_lexer": "ipython3",
   "version": "3.8.13"
  }
 },
 "nbformat": 4,
 "nbformat_minor": 5
}
